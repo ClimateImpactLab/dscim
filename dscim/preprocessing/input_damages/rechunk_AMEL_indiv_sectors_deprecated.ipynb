{
 "cells": [
  {
   "cell_type": "code",
   "execution_count": null,
   "id": "b9e7cd69",
   "metadata": {
    "tags": []
   },
   "outputs": [],
   "source": [
    "import pandas as pd\n",
    "import xarray as xr\n",
    "import numpy as np\n",
    "import glob, os, sys\n",
    "from pathlib import Path\n",
    "from p_tqdm import p_map\n",
    "import seaborn as sns\n",
    "import matplotlib.pyplot as plt\n",
    "from dscim.menu.simple_storage import EconVars\n",
    "import dask\n",
    "from dask.distributed import Client, progress"
   ]
  },
  {
   "cell_type": "code",
   "execution_count": null,
   "id": "afd501a8-f862-4062-bbea-617f711bc22f",
   "metadata": {
    "tags": []
   },
   "outputs": [],
   "source": [
    "gcm = [\n",
    "        \"ACCESS1-0\",\n",
    "        \"CCSM4\",\n",
    "        \"GFDL-CM3\",\n",
    "        \"IPSL-CM5A-LR\",\n",
    "        \"MIROC-ESM-CHEM\",\n",
    "        \"bcc-csm1-1\",\n",
    "        \"CESM1-BGC\",\n",
    "        \"GFDL-ESM2G\",\n",
    "        \"IPSL-CM5A-MR\",\n",
    "        \"MPI-ESM-LR\",\n",
    "        \"BNU-ESM\",\n",
    "        \"CNRM-CM5\",\n",
    "        \"GFDL-ESM2M\",\n",
    "        \"MIROC5\",\n",
    "        \"MPI-ESM-MR\",\n",
    "        \"CanESM2\",\n",
    "        \"CSIRO-Mk3-6-0\",\n",
    "        \"inmcm4\",\n",
    "        \"MIROC-ESM\",\n",
    "        \"MRI-CGCM3\",\n",
    "        \"NorESM1-M\",\n",
    "        \"surrogate_GFDL-CM3_89\",\n",
    "        \"surrogate_GFDL-ESM2G_11\",\n",
    "        \"surrogate_CanESM2_99\",\n",
    "        \"surrogate_GFDL-ESM2G_01\",\n",
    "        \"surrogate_MRI-CGCM3_11\",\n",
    "        \"surrogate_CanESM2_89\",\n",
    "        \"surrogate_GFDL-CM3_94\",\n",
    "        \"surrogate_MRI-CGCM3_01\",\n",
    "        \"surrogate_CanESM2_94\",\n",
    "        \"surrogate_GFDL-CM3_99\",\n",
    "        \"surrogate_MRI-CGCM3_06\",\n",
    "        \"surrogate_GFDL-ESM2G_06\",\n",
    "    ]"
   ]
  },
  {
   "cell_type": "code",
   "execution_count": null,
   "id": "17ccc7c4-b5bf-4a03-992c-5dc86c21bc66",
   "metadata": {
    "tags": []
   },
   "outputs": [],
   "source": [
    "gcm.reverse()"
   ]
  },
  {
   "cell_type": "markdown",
   "id": "cfff81d3-ac52-4dea-9a87-97f278409ded",
   "metadata": {
    "tags": []
   },
   "source": [
    "# Energy"
   ]
  },
  {
   "cell_type": "code",
   "execution_count": null,
   "id": "83247f9d-c425-4100-b62e-b9161f00307f",
   "metadata": {},
   "outputs": [],
   "source": [
    "def resave_energy_histclim(i):\n",
    "\n",
    "    def prep(ds, i=i):\n",
    "        return ds.sel(gcm=i).drop('gcm')\n",
    "\n",
    "    ec = EconVars(path_econ='/shares/gcp/integration/float32/dscim_input_data/econvars/')\n",
    "    \n",
    "    delta_paths = Path(f\"/shares/gcp/integration/float32/input_data_histclim/energy_data/hybrid_price/\").glob(\n",
    "        \"rebased_batch*.zarr\"\n",
    "    )\n",
    "\n",
    "    damages = xr.open_mfdataset(delta_paths, preprocess=prep, parallel=True)\n",
    "    \n",
    "    damages = damages.expand_dims({'gcm' : [str(i)]})\n",
    "\n",
    "    damages = damages.chunk({'batch' : 15, 'ssp' : 1, 'model' : 1, 'rcp' : 1, 'gcm' : 1, 'year' : 10, 'region':24378 })\n",
    "    \n",
    "    to_store = damages.copy()\n",
    "    for var in to_store.variables:\n",
    "        to_store[var].encoding.clear()\n",
    "\n",
    "    if i==\"surrogate_GFDL-ESM2G_06\":\n",
    "        to_store.to_zarr(\n",
    "        f\"/shares/gcp/integration/float32/input_data_histclim/energy_data/hybrid_price.zarr\", \n",
    "            consolidated=True,\n",
    "            mode='w'\n",
    "        )\n",
    "    else:\n",
    "        to_store.to_zarr(\n",
    "            f\"/shares/gcp/integration/float32/input_data_histclim/energy_data/hybrid_price.zarr\", \n",
    "            consolidated=True,\n",
    "            append_dim='gcm'    \n",
    "        )\n",
    "            \n",
    "    damages.close()\n",
    "    to_store.close()"
   ]
  },
  {
   "cell_type": "code",
   "execution_count": null,
   "id": "2974ba20-613b-47ed-83ad-bbfadfbe5d15",
   "metadata": {},
   "outputs": [],
   "source": [
    "for i, g in enumerate(gcm):\n",
    "    print(i)\n",
    "    resave_energy_histclim(g)"
   ]
  },
  {
   "cell_type": "markdown",
   "id": "e68a7b8a-4c43-4c03-8b1b-ea0686cc41f1",
   "metadata": {},
   "source": [
    "# Labour"
   ]
  },
  {
   "cell_type": "code",
   "execution_count": null,
   "id": "0586bc0c-edb1-42c7-a1f3-fef2f6767ebf",
   "metadata": {},
   "outputs": [],
   "source": [
    "# TO-DO: need to update path\n",
    "def resave_labor_histclim(i):\n",
    "\n",
    "    def prep(ds, i=i):\n",
    "        return ds.sel(gcm=i).drop('gcm')\n",
    "\n",
    "    ec = EconVars(path_econ='/shares/gcp/integration/float32/dscim_input_data/econvars/')\n",
    "    \n",
    "    delta_paths = Path(f\"/shares/gcp/integration/float32/input_data_histclim/labor_data/new_mc/\").glob(\n",
    "        \"rebased_wage-levels_batch*.zarr\"\n",
    "    )\n",
    "\n",
    "    damages = xr.open_mfdataset(delta_paths, preprocess=prep, parallel=True)\n",
    "    \n",
    "    damages = damages.expand_dims({'gcm' : [str(i)]})\n",
    "\n",
    "    damages = damages.chunk({'batch' : 15, 'ssp' : 1, 'model' : 1, 'rcp' : 1, 'gcm' : 1, 'year' : 10, 'region':24378 })\n",
    "    \n",
    "    to_store = damages.copy()\n",
    "    for var in to_store.variables:\n",
    "        to_store[var].encoding.clear()\n",
    "\n",
    "    if i==\"surrogate_GFDL-ESM2G_06\":\n",
    "        to_store.to_zarr(\n",
    "        f\"/shares/gcp/integration/float32/input_data_histclim/labor_data/new_mc.zarr\", \n",
    "            consolidated=True,\n",
    "            mode='w'\n",
    "        )\n",
    "    else:\n",
    "        to_store.to_zarr(\n",
    "            f\"/shares/gcp/integration/float32/input_data_histclim/labor_data/new_mc.zarr\", \n",
    "            consolidated=True,\n",
    "            append_dim='gcm'    \n",
    "        )\n",
    "            \n",
    "    damages.close()\n",
    "    to_store.close()"
   ]
  },
  {
   "cell_type": "code",
   "execution_count": null,
   "id": "2875950a-6e72-4678-aa90-7144d83f3ae0",
   "metadata": {},
   "outputs": [],
   "source": [
    "for i, g in enumerate(gcm):\n",
    "    print(i)\n",
    "    resave_labor_histclim(g)"
   ]
  },
  {
   "cell_type": "markdown",
   "id": "162b6db6-f4af-4038-bcb0-fb37e479329c",
   "metadata": {},
   "source": [
    "# Agriculture - runs slightly differently : use a Dask client"
   ]
  },
  {
   "cell_type": "code",
   "execution_count": null,
   "id": "b501b9f9-b236-48cc-ad27-1b2bed0241b1",
   "metadata": {
    "tags": []
   },
   "outputs": [],
   "source": [
    "dask.config.set(\n",
    "    {\n",
    "        \"distributed.worker.memory.target\": 0.7,\n",
    "        \"distributed.worker.memory.spill\": 0.8,\n",
    "        \"distributed.worker.memory.pause\": 0.9,\n",
    "    }\n",
    ")"
   ]
  },
  {
   "cell_type": "code",
   "execution_count": null,
   "id": "13dfdeec-d2a8-420b-b547-5c01f7d115c5",
   "metadata": {
    "tags": []
   },
   "outputs": [],
   "source": [
    "client = Client(n_workers=10, memory_limit=\"30G\", threads_per_worker=1)"
   ]
  },
  {
   "cell_type": "code",
   "execution_count": null,
   "id": "6247825f-34bb-43a2-81d0-b267d83f2e64",
   "metadata": {
    "tags": []
   },
   "outputs": [],
   "source": [
    "chunkies = {'rcp' : 1, 'region' : 24378, 'gcm': 1, 'year': 10, 'model': 1, 'ssp': 1, 'batch' : 15}"
   ]
  },
  {
   "cell_type": "code",
   "execution_count": null,
   "id": "8818cbb6-b561-4cf0-84ab-5a31bca8f2a7",
   "metadata": {
    "tags": []
   },
   "outputs": [],
   "source": [
    "delta = xr.open_mfdataset(Path('/shares/gcp/integration/float32/input_data_histclim/ag_data/gdp_weights_delta').rglob('damages_batch*.nc4'))\n",
    "delta = delta.chunk(chunkies).squeeze().drop('variable').reset_coords('variable', drop=True)\n",
    "delta = xr.where(np.isinf(delta), np.nan, delta)\n",
    "ds = xr.Dataset({\n",
    "    'delta_reallocation' : delta.wc_reallocation\n",
    "}\n",
    ")\n",
    "\n",
    "ds.to_zarr('/mnt/sacagawea_shares/gcp/integration/float32/input_data_histclim/ag_data/gdp_weights_ag_histclim-delta.zarr', \n",
    "            mode = 'w',\n",
    "            consolidated=True\n",
    "           )"
   ]
  },
  {
   "cell_type": "code",
   "execution_count": null,
   "id": "a3b9e24f-f896-4d96-a2a0-e7d383aeb42f",
   "metadata": {
    "tags": []
   },
   "outputs": [],
   "source": [
    "client.restart()"
   ]
  },
  {
   "cell_type": "code",
   "execution_count": null,
   "id": "8ab9f7f9-718f-4e62-82f5-3cdc67362dad",
   "metadata": {
    "tags": []
   },
   "outputs": [],
   "source": [
    "histclim = xr.open_mfdataset(Path('/shares/gcp/integration/float32/input_data_histclim/ag_data/gdp_weights_histclim').rglob('damages_batch*.nc4'))\n",
    "histclim = histclim.chunk(chunkies).squeeze().drop('variable').reset_coords('variable', drop=True)\n",
    "histclim = xr.where(np.isinf(histclim), np.nan, histclim)\n",
    "ds = xr.Dataset({\n",
    "    'histclim_reallocation' : histclim.wc_reallocation,\n",
    "}\n",
    ")\n",
    "\n",
    "ds.to_zarr('/mnt/sacagawea_shares/gcp/integration/float32/input_data_histclim/ag_data/gdp_weights_ag_histclim-delta.zarr', \n",
    "            mode = 'a',\n",
    "            consolidated=True\n",
    "           )"
   ]
  }
 ],
 "metadata": {
  "kernelspec": {
   "display_name": "Python 3 (ipykernel)",
   "language": "python",
   "name": "python3"
  },
  "language_info": {
   "codemirror_mode": {
    "name": "ipython",
    "version": 3
   },
   "file_extension": ".py",
   "mimetype": "text/x-python",
   "name": "python",
   "nbconvert_exporter": "python",
   "pygments_lexer": "ipython3",
   "version": "3.8.0"
  }
 },
 "nbformat": 4,
 "nbformat_minor": 5
}
